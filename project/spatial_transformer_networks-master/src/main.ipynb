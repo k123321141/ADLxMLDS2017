{
 "cells": [
  {
   "cell_type": "markdown",
   "metadata": {},
   "source": [
    "This example was adapted from skaae's Lasagne [recipe](https://github.com/skaae/Recipes/blob/spatial_transform/examples/spatial_transformer_network.ipynb).  \n",
    "You can download skaae's Cluttered MNIST dataset [here](https://s3.amazonaws.com/lasagne/recipes/datasets/mnist_cluttered_60x60_6distortions.npz).\n",
    "This ipython notebook was adapted from Seya's spatial transformer network example\n",
    "(https://github.com/EderSantana/seya/blob/keras1/examples/Spatial%20Transformer%20Networks.ipynb)\n",
    "\n",
    "Reference at [arXiv](http://arxiv.org/abs/1506.02025)"
   ]
  },
  {
   "cell_type": "code",
   "execution_count": 2,
   "metadata": {},
   "outputs": [
    {
     "name": "stderr",
     "output_type": "stream",
     "text": [
      "Using TensorFlow backend.\n"
     ]
    }
   ],
   "source": [
    "%matplotlib inline\n",
    "\n",
    "import numpy as np\n",
    "np.random.seed(1337)  # for reproducibility\n",
    "import matplotlib.pyplot as plt\n",
    "from scipy.misc import imresize\n",
    "from keras.datasets import mnist\n",
    "from keras.models import Sequential\n",
    "from keras.callbacks import *\n",
    "from keras.layers.core import Dense, Dropout, Activation, Flatten\n",
    "from keras.layers.convolutional import Convolution2D, MaxPooling2D\n",
    "from keras.utils import np_utils\n",
    "from keras.utils import np_utils, generic_utils\n",
    "from keras.optimizers import Adam, SGD\n",
    "\n",
    "import keras.backend as K\n",
    "from spatial_transformer import SpatialTransformer\n",
    "\n",
    "batch_size = 128\n",
    "nb_classes = 10\n",
    "nb_epoch = 12\n",
    "\n",
    "DIM = 60\n",
    "mnist_cluttered = \"../datasets/mnist_cluttered_60x60_6distortions.npz\"\n",
    "# DIM = 40\n",
    "# dep = 1\n",
    "# mnist_cluttered = '../datasets/mnist_sequence1_sample_5distortions5x5.npz'\n",
    "\n",
    "DIM = 60\n",
    "dep = 3\n",
    "nb_classes = 13\n",
    "mnist_cluttered = '../datasets/train.npz'"
   ]
  },
  {
   "cell_type": "code",
   "execution_count": 3,
   "metadata": {},
   "outputs": [
    {
     "name": "stdout",
     "output_type": "stream",
     "text": [
      "(1075, 1)\n",
      "(1075, 13)\n",
      "Train samples: (9680, 60, 60, 3)\n",
      "Validation samples: (1075, 60, 60, 3)\n",
      "Test samples: (13486, 60, 60, 3)\n",
      "('Input shape:', (60, 60, 3))\n"
     ]
    }
   ],
   "source": [
    "data = np.load(mnist_cluttered)\n",
    "X_train, y_train = data['x_train'], data['y_train']\n",
    "X_valid, y_valid = data['x_valid'], data['y_valid']\n",
    "X_test, y_test = data['x_test'], data['y_test']\n",
    "# X_train, y_train = data['X_train'], np.argmax(data['y_train'], axis=-1)\n",
    "# X_valid, y_valid = data['X_valid'], np.argmax(data['y_valid'], axis=-1)\n",
    "# X_test, y_test = data['X_test'], np.argmax(data['y_test'], axis=-1)\n",
    "# reshape for convolutions\n",
    "X_train = X_train.reshape((X_train.shape[0], DIM, DIM, dep))\n",
    "X_valid = X_valid.reshape((X_valid.shape[0], DIM, DIM, dep))\n",
    "X_test = X_test.reshape((X_test.shape[0], DIM, DIM, dep))\n",
    "print y_valid.shape\n",
    "y_train = np_utils.to_categorical(y_train, nb_classes)\n",
    "y_valid = np_utils.to_categorical(y_valid, nb_classes)\n",
    "y_test = np_utils.to_categorical(y_test, nb_classes)\n",
    "print y_valid.shape\n",
    "print(\"Train samples: {}\".format(X_train.shape))\n",
    "print(\"Validation samples: {}\".format(X_valid.shape))\n",
    "print(\"Test samples: {}\".format(X_test.shape))\n",
    "\n",
    "\n",
    "input_shape =  np.squeeze(X_train.shape[1:])\n",
    "input_shape = (DIM, DIM, dep)\n",
    "print(\"Input shape:\",input_shape)"
   ]
  },
  {
   "cell_type": "code",
   "execution_count": 4,
   "metadata": {},
   "outputs": [
    {
     "data": {
      "image/png": "[encoded data removed]",
      "text/plain": [
       "<matplotlib.figure.Figure at 0x10b787110>"
      ]
     },
     "metadata": {},
     "output_type": "display_data"
    }
   ],
   "source": [
    "plt.figure(figsize=(7,7))\n",
    "if dep ==3:\n",
    "    plt.imshow(X_train[101].reshape(DIM, DIM, dep), interpolation='none')\n",
    "else:  \n",
    "    plt.imshow(X_train[101].reshape(DIM, DIM), cmap='gray', interpolation='none')\n",
    "plt.title('Cluttered MNIST', fontsize=20)\n",
    "plt.axis('off')\n",
    "plt.show()"
   ]
  },
  {
   "cell_type": "code",
   "execution_count": 5,
   "metadata": {},
   "outputs": [],
   "source": [
    "# initial weights\n",
    "b = np.zeros((2, 3), dtype='float32')\n",
    "b[0, 0] = 1\n",
    "b[1, 1] = 1\n",
    "W = np.zeros((50, 6), dtype='float32')\n",
    "weights = [W, b.flatten()]"
   ]
  },
  {
   "cell_type": "code",
   "execution_count": 6,
   "metadata": {},
   "outputs": [],
   "source": [
    "locnet = Sequential()\n",
    "locnet.add(MaxPooling2D(pool_size=(2,2), input_shape=input_shape))\n",
    "locnet.add(Convolution2D(20, (5, 5)))\n",
    "locnet.add(MaxPooling2D(pool_size=(2,2)))\n",
    "locnet.add(Convolution2D(20, (5, 5)))\n",
    "\n",
    "locnet.add(Flatten())\n",
    "locnet.add(Dense(50))\n",
    "locnet.add(Activation('relu'))\n",
    "locnet.add(Dense(6, weights=weights ,name='trans_mat'))\n",
    "#locnet.add(Activation('sigmoid'))"
   ]
  },
  {
   "cell_type": "code",
   "execution_count": 7,
   "metadata": {
    "scrolled": false
   },
   "outputs": [
    {
     "name": "stdout",
     "output_type": "stream",
     "text": [
      "spatial_transformer_1\n",
      "conv2d_3\n",
      "activation_2\n",
      "max_pooling2d_3\n",
      "conv2d_4\n",
      "activation_3\n",
      "max_pooling2d_4\n",
      "flatten_2\n",
      "dense_2\n",
      "activation_4\n",
      "dense_3\n",
      "activation_5\n",
      "<spatial_transformer.SpatialTransformer object at 0x197eb8110>\n"
     ]
    }
   ],
   "source": [
    "model = Sequential()\n",
    "\n",
    "model.add(SpatialTransformer(localization_net=locnet,\n",
    "                             output_size=(DIM/2,DIM/2), input_shape=input_shape))\n",
    "\n",
    "model.add(Convolution2D(32, (3, 3), padding='same'))\n",
    "model.add(Activation('relu'))\n",
    "model.add(MaxPooling2D(pool_size=(2, 2)))\n",
    "model.add(Convolution2D(32, (3, 3)))\n",
    "model.add(Activation('relu'))\n",
    "model.add(MaxPooling2D(pool_size=(2, 2)))\n",
    "\n",
    "model.add(Flatten())\n",
    "model.add(Dense(256))\n",
    "model.add(Activation('relu'))\n",
    "\n",
    "model.add(Dense(nb_classes))\n",
    "model.add(Activation('softmax'))\n",
    "\n",
    "model.compile(loss='categorical_crossentropy', metrics=['accuracy'], optimizer='adam')\n",
    "trans_lay = model.layers[0]\n",
    "for lay in model.layers:\n",
    "    print lay.name\n",
    "print trans_lay\n",
    "lay = trans_lay\n",
    "\n",
    "# for w in model.trainable_weights:\n",
    "#     if w.name == 'trans_mat/kernel:0':\n",
    "#         k = w\n",
    "#     elif w.name == 'trans_mat/bias:0':\n",
    "#         b = w\n",
    "# print dir(b)\n",
    "# b._variable\n",
    "def show_trans_lay(lay):\n",
    "    k = lay.get_weights()[6]\n",
    "    b = lay.get_weights()[7]\n",
    "    print k\n",
    "    print b\n",
    "# show_trans_lay(trans_lay)\n"
   ]
  },
  {
   "cell_type": "code",
   "execution_count": 8,
   "metadata": {},
   "outputs": [],
   "source": [
    "XX = model.input\n",
    "model.load_weights('./model.h5')\n",
    "YY = model.layers[0].output\n",
    "F = K.function([XX], [YY])\n",
    "labels = ['GreenStraightRight', 'off', 'GreenStraightLeft', 'GreenStraight', 'RedStraightLeft', 'GreenRight', 'Yellow', 'RedStraight', 'Green', 'GreenLeft', 'RedRight', 'RedLeft', 'Red']\n",
    "#summary\n",
    "def setup_summary(labels):\n",
    "    summary_vars = [tf.Variable(0.) for i in range(len(labels) *5 +1 )] \n",
    "    summary_placeholders = [tf.Variable(0.) for var in summary_vars ]\n",
    "    \n",
    "    tf.summary.scalar('Total_Accuracy/Epoch', summary_vars[0])\n",
    "        \n",
    "    for i,label in enumerate(labels): \n",
    "        idx = 5*i + 1\n",
    "        tf.summary.scalar('%s_%s/Epoch' % (label, 'Accuracy'), summary_vars[idx])\n",
    "        tf.summary.scalar('%s_%s/Epoch' % (label, 'True_Positive_Rate'), summary_vars[idx+1])\n",
    "        tf.summary.scalar('%s_%s/Epoch' % (label, 'True_Positive'), summary_vars[idx+2])\n",
    "        tf.summary.scalar('%s_%s/Epoch' % (label, 'False_Positive'), summary_vars[idx+3])\n",
    "        tf.summary.scalar('%s_%s/Epoch' % (label, 'False_Negative'), summary_vars[idx+4])\n",
    "    \n",
    "    \n",
    "    update_ops = [summary_vars[i].assign(summary_placeholders[i]) for i in\n",
    "                  range(len(summary_vars))]\n",
    "    summary_op = tf.summary.merge_all()\n",
    "    return summary_placeholders, update_ops, summary_op\n",
    "sess = tf.InteractiveSession()\n",
    "K.set_session(sess)\n",
    "\n",
    "\n",
    "\n",
    "summary_placeholders, update_ops, summary_op = \\\n",
    "            setup_summary(labels)\n",
    "summary_writer = tf.summary.FileWriter(\n",
    "            './summary'  , sess.graph)\n",
    "sess.run(tf.global_variables_initializer())\n",
    "        \n",
    "        \n",
    "\n"
   ]
  },
  {
   "cell_type": "code",
   "execution_count": 9,
   "metadata": {},
   "outputs": [
    {
     "name": "stdout",
     "output_type": "stream",
     "text": [
      "75\n"
     ]
    }
   ],
   "source": [
    "print(X_train.shape[0]/batch_size)\n",
    "\n",
    "def class_acc(model,x, y_true, labels, epoch):\n",
    "    y_pred = np.argmax(model.predict(x), axis=-1)\n",
    "    y_true = np.argmax(y_true, axis=-1)\n",
    "    num = y_true.shape[0]\n",
    "    #count labels\n",
    "    count = [0] * len(labels)\n",
    "    #True Positive\n",
    "    tp = [0.] * len(labels)\n",
    "    #True Negative\n",
    "    tn = [0.] * len(labels)\n",
    "    #False Positive\n",
    "    fp = [0.] * len(labels)\n",
    "    #False Negative\n",
    "    fn = [0.] * len(labels)\n",
    "    total_acc = 0.\n",
    "    \n",
    "    for i in range(num):\n",
    "        y_p,y_t, = y_pred[i], y_true[i]\n",
    "        count[y_t] += 1\n",
    "        if y_p == y_t:\n",
    "            total_acc += 1\n",
    "            tp[y_t] += 1\n",
    "            for i in range(len(labels)):\n",
    "                if i != y_t:\n",
    "                    fn[i] += 1\n",
    "        else:\n",
    "            tn[y_t] += 1\n",
    "            fp[y_p] += 1     \n",
    "    \n",
    "    total_acc = total_acc / num\n",
    "    #\n",
    "    acc = [0.] * len(labels)\n",
    "    tpr = [0.] * len(labels)\n",
    "    tnr = [0.] * len(labels)\n",
    "    fpr = [0.] * len(labels)\n",
    "    fnr = [0.] * len(labels)\n",
    "    for i in range(len(labels)):\n",
    "        acc[i] = float(tp[i]+tn[i]) / (tp[i]+ tn[i]+ fp[i]+ fn[i])\n",
    "        tpr[i] = float(tp[i]) / (tp[i] + fn[i]) if (tp[i] + fn[i]) != 0 else 0\n",
    "        tnr[i] = float(tn[i]) / (tn[i] + fp[i]) if (tn[i] + fp[i]) != 0 else 0\n",
    "        fpr[i] = 1. - tnr[i] \n",
    "        fnr[i] = 1. - tpr[i] \n",
    "        \n",
    "    result = [total_acc]\n",
    "    \n",
    "    result.extend(acc)\n",
    "    result.extend(tpr)\n",
    "    result.extend(tnr)\n",
    "    result.extend(fpr)\n",
    "    result.extend(fnr)\n",
    "    \n",
    "    \n",
    "    #summary\n",
    "    for i,result in enumerate(result):\n",
    "        sess.run(update_ops[i], feed_dict={\n",
    "            summary_placeholders[i]: result\n",
    "        })\n",
    "    summary_str = sess.run(summary_op)\n",
    "    summary_writer.add_summary(summary_str, epoch)\n",
    "    \n",
    "tb_callback = LambdaCallback(\n",
    "    on_epoch_end=lambda epoch, logs: class_acc(model, X_test, y_test, labels, epoch)\n",
    ")\n",
    "\n",
    "\n",
    "    \n",
    "    \n",
    "    \n",
    "    "
   ]
  },
  {
   "cell_type": "code",
   "execution_count": null,
   "metadata": {
    "scrolled": false
   },
   "outputs": [
    {
     "name": "stdout",
     "output_type": "stream",
     "text": [
      "----------------------------------------\n",
      "Train on 9680 samples, validate on 13486 samples\n",
      "Epoch 1/100\n",
      "9680/9680 [==============================] - 56s - loss: 1.4410 - acc: 0.6096 - val_loss: 0.4143 - val_acc: 0.9197\n",
      "Epoch 2/100\n",
      "6912/9680 [====================>.........] - ETA: 7s - loss: 1.0542 - acc: 0.6898"
     ]
    }
   ],
   "source": [
    "def ceil(x):\n",
    "    a = int(x)\n",
    "    return a+1 if x > a else a\n",
    "nb_epochs = 100 # you probably want to go longer than this\n",
    "batch_size = 256\n",
    "fig = plt.figure()\n",
    "\n",
    "def show_trans_lay(lay):\n",
    "    idx  = [0,2,4,5]\n",
    "    idx = range(6)\n",
    "    k = lay.get_weights()[6]\n",
    "    b = lay.get_weights()[7]\n",
    "    print k[:,idx]\n",
    "    print b[idx]\n",
    "def reset_trans_lay(lay):\n",
    "    ws = lay.get_weights()\n",
    "    k = ws[6]\n",
    "    b = ws[7]\n",
    "    k[:,1] = 0\n",
    "    k[:,3] = 0\n",
    "    b[1] = 0\n",
    "    b[3] = 0\n",
    "    lay.set_weights(ws)\n",
    "    \n",
    "    \n",
    "trans_lay = model.layers[0]\n",
    "\n",
    "reset_callback = LambdaCallback(\n",
    "    on_batch_end=lambda batch, logs: reset_trans_lay(trans_lay)\n",
    ")\n",
    "\n",
    "def equal_class_weight(y_train, nb_classes):\n",
    "    num = y_train.shape[0]\n",
    "    count = np.zeros([nb_classes,])\n",
    "    y_train = np.argmax(y_train, axis=-1).astype(np.uint8)\n",
    "    \n",
    "    for i in range(num):\n",
    "        y = int(y_train[i])\n",
    "        count[y] += 1\n",
    "    w = count / num\n",
    "    return w\n",
    "    \n",
    "\n",
    "try:\n",
    "    \n",
    "    for e in range(nb_epochs): \n",
    "        print('-'*40)\n",
    "        #progbar = generic_utils.Progbar(X_train.shape[0])\n",
    "#         for b in range( ceil(float(X_train.shape[0]) / batch_size) ):\n",
    "#             print('%7d / %7d' % (f, X_train.shape[0]))\n",
    "\n",
    "#             f = b * batch_size\n",
    "#             l = min(X_train.shape[0]+1, (b+1) * batch_size)\n",
    "#             X_batch = X_train[f:l]\n",
    "#             y_batch = y_train[f:l]\n",
    "            \n",
    "            \n",
    "#             loss = model.train_on_batch(X_batch, y_batch)\n",
    "#             reset_trans_lay(trans_lay)\n",
    "        \n",
    "            \n",
    "#             #print(loss)\n",
    "#             #progbar.add(X_batch.shape[0], values=[(\"train loss\", loss)])\n",
    "#         scorev = model.evaluate(X_valid, y_valid, verbose=1)\n",
    "#         scoret = model.evaluate(X_test, y_test, verbose=1)\n",
    "        model.fit(X_train, y_train, epochs=100, batch_size=batch_size, validation_data=(X_test, y_test),\n",
    "                  callbacks=[reset_callback, tb_callback],\n",
    "                 class_weight = equal_class_weight(y_test, nb_classes))\n",
    "    #         print('Epoch: {0} | Valid: {1} | Test: {2}'.format(e, scorev, scoret))\n",
    "        \n",
    "        if e % 1 == 0:\n",
    "            Xresult = F([X_train[:9]])\n",
    "            plt.clf()\n",
    "            for i in range(9):\n",
    "                plt.subplot(3, 3, i+1)\n",
    "                image = np.squeeze(Xresult[0][i])\n",
    "                if dep ==3:\n",
    "                    plt.imshow(image)\n",
    "                else:  \n",
    "                    plt.imshow(image, cmap='gray')\n",
    "                plt.axis('off')\n",
    "            fig.canvas.draw()\n",
    "#             show_trans_lay(trans_lay)\n",
    "            plt.show()\n",
    "            \n",
    "except KeyboardInterrupt:\n",
    "    pass\n",
    "print 'Done'\n",
    "# show_trans_lay(trans_lay)"
   ]
  },
  {
   "cell_type": "markdown",
   "metadata": {},
   "source": [
    "### Visualizing what the Spatial Transformer learned"
   ]
  },
  {
   "cell_type": "code",
   "execution_count": 17,
   "metadata": {},
   "outputs": [],
   "source": [
    "Xaug = X_train[:9]\n",
    "Xresult = F([Xaug.astype('float32')])\n",
    "\n",
    "# xx = Xaug.reshape([-1,60,60])\n",
    "# xx = Xaug[0,:,:]\n",
    "    \n",
    "# for i in range(xx.shape[0]):\n",
    "#     print xx[i,:]\n",
    " \n"
   ]
  },
  {
   "cell_type": "code",
   "execution_count": 18,
   "metadata": {},
   "outputs": [
    {
     "data": {
      "image/png": "[encoded data removed]",
      "text/plain": [
       "<matplotlib.figure.Figure at 0x19cd3b8d0>"
      ]
     },
     "metadata": {},
     "output_type": "display_data"
    }
   ],
   "source": [
    "# input\n",
    "for i in range(9):\n",
    "    plt.subplot(3, 3, i+1)\n",
    "    plt.imshow(np.squeeze(Xaug[i]), cmap='gray')\n",
    "    plt.axis('off')"
   ]
  },
  {
   "cell_type": "code",
   "execution_count": 19,
   "metadata": {},
   "outputs": [
    {
     "data": {
      "image/png": "[encoded data removed]",
      "text/plain": [
       "<matplotlib.figure.Figure at 0x19cb7ec50>"
      ]
     },
     "metadata": {},
     "output_type": "display_data"
    }
   ],
   "source": [
    "# output\n",
    "for i in range(9):\n",
    "    plt.subplot(3, 3, i+1)\n",
    "    plt.imshow(np.squeeze(Xresult[0][i]), cmap='gray')\n",
    "    plt.axis('off')"
   ]
  },
  {
   "cell_type": "code",
   "execution_count": 36,
   "metadata": {},
   "outputs": [
    {
     "name": "stdout",
     "output_type": "stream",
     "text": [
      "(9680, 1)\n"
     ]
    }
   ],
   "source": [
    "%matplotlib inline\n",
    "\n",
    "import numpy as np\n",
    "np.random.seed(1337)  # for reproducibility\n",
    "import matplotlib.pyplot as plt\n",
    "from scipy.misc import imresize\n",
    "data = np.load('../datasets/train.npz')\n",
    "X_train, y_train = data['x_train'], data['y_train']\n",
    "X_valid, y_valid = data['x_valid'], data['y_valid']\n",
    "X_test, y_test = data['x_test'], data['y_test']\n",
    "x = X_train[0,:,:,:]\n",
    "y = y_train\n",
    "print y.shape\n",
    "# for i in range(60):\n",
    "#     print x[i,:,:]\n",
    "\n"
   ]
  },
  {
   "cell_type": "code",
   "execution_count": 28,
   "metadata": {},
   "outputs": [
    {
     "name": "stdout",
     "output_type": "stream",
     "text": [
      " 0 GreenStraightRight 3 0\n",
      "1 off 659 442\n",
      "2 GreenStraightLeft 1 0\n",
      "3 GreenStraight 16 0\n",
      "4 RedStraightLeft 1 0\n",
      "5 GreenRight 12 0\n",
      "6 Yellow 400 154\n",
      "7 RedStraight 9 0\n",
      "8 Green 4686 7569\n",
      "9 GreenLeft 157 0\n",
      "10 RedRight 5 0\n",
      "11 RedLeft 988 0\n",
      "12 Red 2743 5321\n"
     ]
    },
    {
     "data": {
      "image/png": "[encoded data removed]",
      "text/plain": [
       "<matplotlib.figure.Figure at 0x19e68d750>"
      ]
     },
     "metadata": {},
     "output_type": "display_data"
    },
    {
     "data": {
      "image/png": "[encoded data removed]",
      "text/plain": [
       "<matplotlib.figure.Figure at 0x19e8d7c90>"
      ]
     },
     "metadata": {},
     "output_type": "display_data"
    }
   ],
   "source": [
    "%matplotlib inline\n",
    "\n",
    "import numpy as np\n",
    "np.random.seed(1337)  # for reproducibility\n",
    "import matplotlib.pyplot as plt\n",
    "\n",
    "\n",
    "\n",
    "batch_size = 128\n",
    "nb_classes = 10\n",
    "nb_epoch = 12\n",
    "\n",
    "DIM = 60\n",
    "dep = 3\n",
    "nb_classes = 13\n",
    "data = np.load('../datasets/train.npz')\n",
    "y_train = data['y_train']\n",
    "y_test = data['y_test']\n",
    "labels = ['GreenStraightRight', 'off', 'GreenStraightLeft', 'GreenStraight', 'RedStraightLeft', 'GreenRight', 'Yellow', 'RedStraight', 'Green', 'GreenLeft', 'RedRight', 'RedLeft', 'Red']\n",
    "ay = [0]*nb_classes\n",
    "ay2 = [0]*nb_classes\n",
    "for y in y_train:\n",
    "    ay[int(y)] += 1\n",
    "for y in y_test:\n",
    "    ay2[int(y)] += 1\n",
    "for i,l in enumerate(labels):\n",
    "    print i,l,ay[i],ay2[i]    \n",
    "    \n",
    "x = range(13)\n",
    "plt.hist(y_train)\n",
    "plt.show()\n",
    "\n",
    "plt.hist(y_test)\n",
    "plt.show()\n",
    "\n",
    "\n"
   ]
  },
  {
   "cell_type": "code",
   "execution_count": null,
   "metadata": {},
   "outputs": [],
   "source": []
  }
 ],
 "metadata": {
  "kernelspec": {
   "display_name": "Python 2",
   "language": "python",
   "name": "python2"
  },
  "language_info": {
   "codemirror_mode": {
    "name": "ipython",
    "version": 2
   },
   "file_extension": ".py",
   "mimetype": "text/x-python",
   "name": "python",
   "nbconvert_exporter": "python",
   "pygments_lexer": "ipython2",
   "version": "2.7.10"
  }
 },
 "nbformat": 4,
 "nbformat_minor": 1
}
